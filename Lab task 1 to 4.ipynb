{
 "cells": [
  {
   "cell_type": "code",
   "execution_count": null,
   "metadata": {},
   "outputs": [],
   "source": [
    "#Lab no 1\n",
    "def dynamic_calculator():\n",
    "    express = input(\"Enter a expression: \")\n",
    "    Answer = eval(express)\n",
    "    print(f\"The result is: {Answer}\")\n",
    "dynamic_calculator()\n"
   ]
  },
  {
   "cell_type": "code",
   "execution_count": null,
   "metadata": {},
   "outputs": [],
   "source": [
    "#Lab no 2\n",
    "def fizz_buzz(n):\n",
    "    for i in range(1,n+1):\n",
    "        if i%3==0 and i%5==0:\n",
    "            print(\"FizzBuzz\")\n",
    "        elif i%3==0:\n",
    "            print(\"Fizz\")\n",
    "        elif i%5==0:\n",
    "            print(\"Buzz\")\n",
    "        else:\n",
    "            print(i)\n",
    "fizz_buzz(150)"
   ]
  },
  {
   "cell_type": "code",
   "execution_count": null,
   "metadata": {},
   "outputs": [],
   "source": [
    "#Lab 4:\n",
    "#Task 1: Code for LUHN Algorithm \n",
    "#Task 2: Remove Punctuations from UserInput String (without using remove function)\n",
    "#Task 3: Sort text (word) in Alphabetical Order (without using sort function)\n",
    "def luhn_algorithm(card_number):\n",
    "    if not card_number.isdigit():\n",
    "        return False\n",
    "    digit=[int(digit)for digit in card_number]\n",
    "    checksum=0\n",
    "    for i, digit in enumerate(reversed(digit)):\n",
    "        if i%2==1:\n",
    "            double=digit*2\n",
    "            if double>9:\n",
    "                double-=9\n",
    "                checksum+=double\n",
    "        else:\n",
    "            checksum+=digit\n",
    "    return checksum%10==0\n",
    "card_number=\"5666563216510015503\"\n",
    "if luhn_algorithm(card_number):\n",
    "    print(\"VALID CARD NUMBER\")\n",
    "else:\n",
    "    print(\"Invalid Card Number\")"
   ]
  },
  {
   "cell_type": "code",
   "execution_count": null,
   "metadata": {},
   "outputs": [],
   "source": [
    "def remove_punctuation(user_input):\n",
    "    punctuation = '''!()-[]{};:'\"\\,<>./?@#$%^&*_~'''\n",
    "    result = \"\"\n",
    "    for char in user_input:\n",
    "        if char not in punctuation:\n",
    "            result += char\n",
    "    return result\n",
    "\n",
    "input = input(\"Enter a string with punctuation: \")\n",
    "cleaned_string = remove_punctuation(input)\n",
    "print(\"String without punctuation:\", cleaned_string)\n"
   ]
  },
  {
   "cell_type": "code",
   "execution_count": null,
   "metadata": {},
   "outputs": [],
   "source": [
    "def alphabetical_order(words):\n",
    "    words_list = words.split()\n",
    "    sorted_words = sorted(words_list)\n",
    "    return (sorted_words)\n",
    "sentence = \"nobody can beat you\"\n",
    "print(\"Alphabetically sorted:\", alphabetical_order(sentence))\n"
   ]
  },
  {
   "cell_type": "code",
   "execution_count": null,
   "metadata": {},
   "outputs": [],
   "source": [
    "class ModelBasedReflexAgent:\n",
    "    def __init__(self):\n",
    "        self.location = (0, 0)\n",
    "        self.model = {}\n",
    "    def perceive(self, state):\n",
    "        self.model[self.location] = state\n",
    "    def act(self):\n",
    "        if self.location in self.model:\n",
    "            if self.model[self.location] == 'dirty':\n",
    "                print(f\"Cleaning at {self.location}\")\n",
    "                return 'clean'\n",
    "            else:\n",
    "                print(f\"Moving from {self.location}\")\n",
    "                self.move()\n",
    "    def move(self):\n",
    "        self.location = (self.location[0], self.location[1] + 1)\n",
    "agent = ModelBasedReflexAgent()\n",
    "agent.perceive('dirty')\n",
    "agent.act()\n",
    "agent.act()\n",
    "agent.perceive('clean')\n",
    "agent.act()\n"
   ]
  }
 ],
 "metadata": {
  "kernelspec": {
   "display_name": "Python 3",
   "language": "python",
   "name": "python3"
  },
  "language_info": {
   "codemirror_mode": {
    "name": "ipython",
    "version": 3
   },
   "file_extension": ".py",
   "mimetype": "text/x-python",
   "name": "python",
   "nbconvert_exporter": "python",
   "pygments_lexer": "ipython3",
   "version": "3.12.0"
  }
 },
 "nbformat": 4,
 "nbformat_minor": 2
}
