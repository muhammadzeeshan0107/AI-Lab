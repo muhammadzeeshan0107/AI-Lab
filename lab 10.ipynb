{
 "cells": [
  {
   "cell_type": "markdown",
   "id": "f9c85a44",
   "metadata": {},
   "source": [
    "# AI LAB 12\n",
    "### Name: Rasikh Ali\n",
    "### Rollnumber: BSEM-F19-060"
   ]
  },
  {
   "cell_type": "markdown",
   "id": "5e8aebad",
   "metadata": {},
   "source": [
    "<div class=\"alert alert-block alert-success\">\n",
    "    Using <b>Python </b> v3.8.18\n",
    "    <br>\n",
    "    with <b>Jupyter </b> v7.4.9\n",
    "</div>"
   ]
  },
  {
   "cell_type": "markdown",
   "id": "7b6006cc",
   "metadata": {},
   "source": [
    "# Libraries"
   ]
  },
  {
   "cell_type": "code",
   "execution_count": null,
   "id": "588ca540",
   "metadata": {},
   "outputs": [],
   "source": [
    "import pandas as pd\n",
    "import numpy as np\n",
    "import pickle\n",
    "\n",
    "from sklearn.svm import SVC\n",
    "from sklearn.metrics import accuracy_score\n",
    "from sklearn.preprocessing import LabelEncoder\n",
    "from sklearn.model_selection import train_test_split"
   ]
  },
  {
   "cell_type": "markdown",
   "id": "fe556e03",
   "metadata": {},
   "source": [
    "# Data Loading/Reading"
   ]
  },
  {
   "cell_type": "code",
   "execution_count": null,
   "id": "815bed8a",
   "metadata": {},
   "outputs": [],
   "source": [
    "df = pd.read_csv(\"data.csv\")\n",
    "# df = pd.read_json(\"data.json\")\n",
    "df"
   ]
  },
  {
   "cell_type": "code",
   "execution_count": null,
   "id": "888d903e",
   "metadata": {},
   "outputs": [],
   "source": [
    "# pd.set_option(\"display.max_rows\", None, \"display.max_columns\", None)\n",
    "# df"
   ]
  },
  {
   "cell_type": "markdown",
   "id": "6cea430e",
   "metadata": {},
   "source": [
    "# Data Exploration"
   ]
  },
  {
   "cell_type": "code",
   "execution_count": null,
   "id": "ab9e71f9",
   "metadata": {},
   "outputs": [],
   "source": [
    "print(f\"Number of Rows: {df.shape[0]} \\nNumber of Columns: {df.shape[1]}\")"
   ]
  },
  {
   "cell_type": "code",
   "execution_count": null,
   "id": "9e1576ba",
   "metadata": {},
   "outputs": [],
   "source": [
    "df.head(2)"
   ]
  },
  {
   "cell_type": "code",
   "execution_count": null,
   "id": "7f2a3a72",
   "metadata": {},
   "outputs": [],
   "source": [
    "df.tail(2)"
   ]
  },
  {
   "cell_type": "code",
   "execution_count": null,
   "id": "cb9d967b",
   "metadata": {},
   "outputs": [],
   "source": [
    "df.describe()"
   ]
  },
  {
   "cell_type": "code",
   "execution_count": null,
   "id": "043afe57",
   "metadata": {},
   "outputs": [],
   "source": [
    "df.info()"
   ]
  },
  {
   "cell_type": "code",
   "execution_count": null,
   "id": "aa67aabd",
   "metadata": {},
   "outputs": [],
   "source": [
    "print(\"-- Attributes in Data --\")\n",
    "for cols in df.columns:\n",
    "    print(cols)"
   ]
  },
  {
   "cell_type": "code",
   "execution_count": null,
   "id": "7de1b8cd",
   "metadata": {},
   "outputs": [],
   "source": [
    "print(\"-- Number of instances in Data --\")\n",
    "print(df.count())"
   ]
  },
  {
   "cell_type": "code",
   "execution_count": null,
   "id": "a468c677",
   "metadata": {},
   "outputs": [],
   "source": [
    "df['city'].unique()"
   ]
  },
  {
   "cell_type": "code",
   "execution_count": null,
   "id": "06a881dc",
   "metadata": {},
   "outputs": [],
   "source": [
    "df.nunique()"
   ]
  },
  {
   "cell_type": "code",
   "execution_count": null,
   "id": "bd87b1fa",
   "metadata": {},
   "outputs": [],
   "source": [
    "print(\"-- Number of Null Values in Data --\")\n",
    "print(df.isnull().sum())"
   ]
  },
  {
   "cell_type": "markdown",
   "id": "d58c444b",
   "metadata": {},
   "source": [
    "# Data Pre-Processing"
   ]
  },
  {
   "cell_type": "code",
   "execution_count": null,
   "id": "0951a34c",
   "metadata": {
    "scrolled": true
   },
   "outputs": [],
   "source": [
    "df = df.drop('date', axis=1)"
   ]
  },
  {
   "cell_type": "code",
   "execution_count": null,
   "id": "82ffa04d",
   "metadata": {},
   "outputs": [],
   "source": [
    "df.head(2)"
   ]
  },
  {
   "cell_type": "code",
   "execution_count": null,
   "id": "9fa48ae2",
   "metadata": {},
   "outputs": [],
   "source": [
    "df.info()"
   ]
  },
  {
   "cell_type": "code",
   "execution_count": null,
   "id": "f0fd6638",
   "metadata": {},
   "outputs": [],
   "source": [
    "df['street'].mode()[0]"
   ]
  },
  {
   "cell_type": "code",
   "execution_count": null,
   "id": "50683ccd",
   "metadata": {},
   "outputs": [],
   "source": [
    "# df['street'] = df['street'].fillna(df['street'].mode()[0])\n",
    "def fillNaObjMode(cols):\n",
    "    for i in cols:\n",
    "        df[i] = df[i].fillna(df[i].mode()[0])\n",
    "\n",
    "columns = ['street','city','statezip','country']\n",
    "fillNaObjMode(columns)"
   ]
  },
  {
   "cell_type": "code",
   "execution_count": null,
   "id": "99647c42",
   "metadata": {},
   "outputs": [],
   "source": [
    "def fillNaIntMode(cols):\n",
    "    for i in cols:\n",
    "        df[i] = df[i].fillna(df[i].mode()[0])\n",
    "\n",
    "columns = ['bedrooms','bathrooms','floors','waterfront','view','yr_built']\n",
    "fillNaIntMode(columns)"
   ]
  },
  {
   "cell_type": "code",
   "execution_count": null,
   "id": "e1b36898",
   "metadata": {},
   "outputs": [],
   "source": [
    "def fillNaFloat(cols):\n",
    "    for i in cols:\n",
    "        df[i] = df[i].fillna(df[i].mean())\n",
    "\n",
    "columns = ['price','sqft_living','sqft_lot','sqft_above','sqft_basement']\n",
    "fillNaFloat(columns)"
   ]
  },
  {
   "cell_type": "code",
   "execution_count": null,
   "id": "fa59cc18",
   "metadata": {
    "scrolled": false
   },
   "outputs": [],
   "source": [
    "df.info()"
   ]
  },
  {
   "cell_type": "code",
   "execution_count": null,
   "id": "0d43dab6",
   "metadata": {},
   "outputs": [],
   "source": [
    "# df['price'] = df['price'].astype('int64')\n",
    "\n",
    "def convertFloatintoInt(cols):\n",
    "    for i in cols:\n",
    "        df[i] = df[i].astype('int64')\n",
    "\n",
    "columns = ['bedrooms','bathrooms','floors','waterfront','view','yr_built','price','sqft_living','sqft_lot','sqft_above','sqft_basement']\n",
    "convertFloatintoInt(columns)"
   ]
  },
  {
   "cell_type": "code",
   "execution_count": null,
   "id": "563e92c9",
   "metadata": {},
   "outputs": [],
   "source": [
    "df.info()"
   ]
  },
  {
   "cell_type": "code",
   "execution_count": null,
   "id": "c074eb79",
   "metadata": {},
   "outputs": [],
   "source": [
    "df['street'].nunique()"
   ]
  },
  {
   "cell_type": "code",
   "execution_count": null,
   "id": "5691179f",
   "metadata": {},
   "outputs": [],
   "source": [
    "df['country'].nunique()"
   ]
  },
  {
   "cell_type": "code",
   "execution_count": null,
   "id": "ad4a4441",
   "metadata": {},
   "outputs": [],
   "source": [
    "df['city'].nunique()"
   ]
  },
  {
   "cell_type": "code",
   "execution_count": null,
   "id": "7d52709c",
   "metadata": {},
   "outputs": [],
   "source": [
    "df['statezip'].nunique()"
   ]
  },
  {
   "cell_type": "code",
   "execution_count": null,
   "id": "88ecfad1",
   "metadata": {},
   "outputs": [],
   "source": [
    "df = df.drop('street',axis=1)\n",
    "df = df.drop('country',axis=1)"
   ]
  },
  {
   "cell_type": "code",
   "execution_count": null,
   "id": "fd8a5ad7",
   "metadata": {},
   "outputs": [],
   "source": [
    "df.info()"
   ]
  },
  {
   "cell_type": "code",
   "execution_count": null,
   "id": "10b3c0f4",
   "metadata": {},
   "outputs": [],
   "source": [
    "def dataEncoder(cols):\n",
    "    for i in cols:\n",
    "        dataLabelEncoder = LabelEncoder()\n",
    "        df[i] = dataLabelEncoder.fit_transform(df[i])\n",
    "\n",
    "columns = ['city','statezip']\n",
    "dataEncoder(columns)"
   ]
  },
  {
   "cell_type": "code",
   "execution_count": null,
   "id": "461305a8",
   "metadata": {},
   "outputs": [],
   "source": [
    "df.info()"
   ]
  },
  {
   "cell_type": "code",
   "execution_count": null,
   "id": "dec5ab5d",
   "metadata": {},
   "outputs": [],
   "source": [
    "df.head(2)"
   ]
  },
  {
   "cell_type": "code",
   "execution_count": null,
   "id": "094b9b91",
   "metadata": {},
   "outputs": [],
   "source": [
    "df.to_csv(r'encoded-data.csv', index = False, header = True)"
   ]
  },
  {
   "cell_type": "markdown",
   "id": "60b50e64",
   "metadata": {},
   "source": [
    "# Train-Test Split"
   ]
  },
  {
   "cell_type": "code",
   "execution_count": null,
   "id": "fad95174",
   "metadata": {},
   "outputs": [],
   "source": [
    "# X, y\n",
    "# train_x, train_y, test_x, test_y\n",
    "# train, test\n",
    "trainData, testData = train_test_split(df, test_size=0.2, shuffle=False)"
   ]
  },
  {
   "cell_type": "code",
   "execution_count": null,
   "id": "8aca08df",
   "metadata": {},
   "outputs": [],
   "source": [
    "trainData.shape"
   ]
  },
  {
   "cell_type": "code",
   "execution_count": null,
   "id": "9e2f469d",
   "metadata": {},
   "outputs": [],
   "source": [
    "testData.shape"
   ]
  },
  {
   "cell_type": "code",
   "execution_count": null,
   "id": "1955557b",
   "metadata": {},
   "outputs": [],
   "source": [
    "# testData.iloc()[:, 1:]\n",
    "\n",
    "train_x = trainData.iloc()[:, 1:]\n",
    "test_x  = testData.iloc()[:, 1:]\n",
    "\n",
    "train_y = trainData.iloc()[:, 0]\n",
    "test_y  = testData.iloc()[:, 0]"
   ]
  },
  {
   "cell_type": "code",
   "execution_count": null,
   "id": "955cdf20",
   "metadata": {},
   "outputs": [],
   "source": [
    "train_x.head(2)"
   ]
  },
  {
   "cell_type": "code",
   "execution_count": null,
   "id": "733ecca8",
   "metadata": {},
   "outputs": [],
   "source": [
    "train_y.head(2)"
   ]
  },
  {
   "cell_type": "code",
   "execution_count": null,
   "id": "b20f8d9a",
   "metadata": {},
   "outputs": [],
   "source": [
    "test_x.head(2)"
   ]
  },
  {
   "cell_type": "code",
   "execution_count": null,
   "id": "cb05961d",
   "metadata": {},
   "outputs": [],
   "source": [
    "test_y.head(2)"
   ]
  },
  {
   "cell_type": "markdown",
   "id": "2bb1c107",
   "metadata": {},
   "source": [
    "# Model Apply / Classifier Application"
   ]
  },
  {
   "cell_type": "code",
   "execution_count": null,
   "id": "d85b12f9",
   "metadata": {},
   "outputs": [],
   "source": [
    "# model_svc = SVC(gamma='auto', random_state=0)\n",
    "# model_svc.fit(train_x, np.ravel(train_y))\n",
    "\n",
    "model_svc = SVC()\n",
    "model_svc.fit(train_x, train_y)\n",
    "\n",
    "print(model_svc)"
   ]
  },
  {
   "cell_type": "code",
   "execution_count": null,
   "id": "123679f9",
   "metadata": {},
   "outputs": [],
   "source": [
    "# Saving Trained Model\n",
    "pickle.dump(model_svc, open('model_svc.pkl', 'wb'))"
   ]
  },
  {
   "cell_type": "code",
   "execution_count": null,
   "id": "7cd2c5b7",
   "metadata": {},
   "outputs": [],
   "source": [
    "# Load saved Model\n",
    "model_svc = pickle.load(open('model_svc.pkl', 'rb'))"
   ]
  },
  {
   "cell_type": "code",
   "execution_count": null,
   "id": "a5a45880",
   "metadata": {},
   "outputs": [],
   "source": [
    "model_predictions = model_svc.predict(test_x)"
   ]
  },
  {
   "cell_type": "code",
   "execution_count": null,
   "id": "6f51f44f",
   "metadata": {},
   "outputs": [],
   "source": []
  },
  {
   "cell_type": "code",
   "execution_count": null,
   "id": "5fe1e9bb",
   "metadata": {},
   "outputs": [],
   "source": [
    "model_accuracy_score = accuracy_score(test_y, model_predictions)\n",
    "\n",
    "print(\"-- Model Accuracy Score: \", end='')\n",
    "print(round(model_accuracy_score,3))"
   ]
  },
  {
   "cell_type": "code",
   "execution_count": null,
   "id": "d3029f77",
   "metadata": {},
   "outputs": [],
   "source": []
  },
  {
   "cell_type": "code",
   "execution_count": null,
   "id": "ab800199",
   "metadata": {},
   "outputs": [],
   "source": [
    "testdata_predict = testData.copy(deep=True)\n",
    "pd.options.mode.chained_assignment = None\n",
    "\n",
    "testdata_predict['Prediction'] = model_predictions"
   ]
  },
  {
   "cell_type": "code",
   "execution_count": null,
   "id": "90855321",
   "metadata": {},
   "outputs": [],
   "source": [
    "model_accuracy_score = accuracy_score(testdata_predict['price'], testdata_predict['Prediction'])\n",
    "\n",
    "print(\"-- Model Accuracy Score: \", end='')\n",
    "print(round(model_accuracy_score,3))"
   ]
  },
  {
   "cell_type": "code",
   "execution_count": null,
   "id": "7c179dad",
   "metadata": {},
   "outputs": [],
   "source": []
  }
 ],
 "metadata": {
  "kernelspec": {
   "display_name": "Python 3",
   "language": "python",
   "name": "python3"
  },
  "language_info": {
   "codemirror_mode": {
    "name": "ipython",
    "version": 3
   },
   "file_extension": ".py",
   "mimetype": "text/x-python",
   "name": "python",
   "nbconvert_exporter": "python",
   "pygments_lexer": "ipython3",
   "version": "3.12.0"
  }
 },
 "nbformat": 4,
 "nbformat_minor": 5
}
