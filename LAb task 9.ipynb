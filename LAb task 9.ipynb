{
 "cells": [
  {
   "cell_type": "code",
   "execution_count": 1,
   "metadata": {},
   "outputs": [
    {
     "name": "stdout",
     "output_type": "stream",
     "text": [
      "First few rows of the dataset:\n",
      "       Date          SPX        GLD        USO     SLV   EUR/USD\n",
      "0  1/2/2008  1447.160034  84.860001  78.470001  15.180  1.471692\n",
      "1  1/3/2008  1447.160034  85.570000  78.370003  15.285  1.474491\n",
      "2  1/4/2008  1411.630005  85.129997  77.309998  15.167  1.475492\n",
      "3  1/7/2008  1416.180054  84.769997  75.500000  15.053  1.468299\n",
      "4  1/8/2008  1390.189941  86.779999  76.059998  15.590  1.557099\n",
      "\n",
      "Dataset Information:\n",
      "<class 'pandas.core.frame.DataFrame'>\n",
      "RangeIndex: 2290 entries, 0 to 2289\n",
      "Data columns (total 6 columns):\n",
      " #   Column   Non-Null Count  Dtype  \n",
      "---  ------   --------------  -----  \n",
      " 0   Date     2290 non-null   object \n",
      " 1   SPX      2290 non-null   float64\n",
      " 2   GLD      2290 non-null   float64\n",
      " 3   USO      2290 non-null   float64\n",
      " 4   SLV      2290 non-null   float64\n",
      " 5   EUR/USD  2290 non-null   float64\n",
      "dtypes: float64(5), object(1)\n",
      "memory usage: 107.5+ KB\n",
      "None\n",
      "\n",
      "Missing Values in Each Column:\n",
      "Date       0\n",
      "SPX        0\n",
      "GLD        0\n",
      "USO        0\n",
      "SLV        0\n",
      "EUR/USD    0\n",
      "dtype: int64\n",
      "\n",
      "Basic Statistical Details:\n",
      "               SPX          GLD          USO          SLV      EUR/USD\n",
      "count  2290.000000  2290.000000  2290.000000  2290.000000  2290.000000\n",
      "mean   1654.315776   122.732875    31.842221    20.084997     1.283653\n",
      "std     519.111540    23.283346    19.523517     7.092566     0.131547\n",
      "min     676.530029    70.000000     7.960000     8.850000     1.039047\n",
      "25%    1239.874969   109.725000    14.380000    15.570000     1.171313\n",
      "50%    1551.434998   120.580002    33.869999    17.268500     1.303297\n",
      "75%    2073.010070   132.840004    37.827501    22.882500     1.369971\n",
      "max    2872.870117   184.589996   117.480003    47.259998     1.598798\n",
      "\n",
      "Column Names:\n",
      "['Date', 'SPX', 'GLD', 'USO', 'SLV', 'EUR/USD']\n"
     ]
    }
   ],
   "source": [
    "import pandas as pd\n",
    "\n",
    "file_path = \"gld_price_data.csv\"\n",
    "df = pd.read_csv(file_path)\n",
    "\n",
    "print(\"First few rows of the dataset:\")\n",
    "print(df.head())\n",
    "\n",
    "print(\"\\nDataset Information:\")\n",
    "print(df.info())\n",
    "\n",
    "print(\"\\nMissing Values in Each Column:\")\n",
    "print(df.isnull().sum())\n",
    "\n",
    "print(\"\\nBasic Statistical Details:\")\n",
    "print(df.describe())\n",
    "\n",
    "print(\"\\nColumn Names:\")\n",
    "print(df.columns.tolist())\n"
   ]
  }
 ],
 "metadata": {
  "kernelspec": {
   "display_name": "Python 3",
   "language": "python",
   "name": "python3"
  },
  "language_info": {
   "codemirror_mode": {
    "name": "ipython",
    "version": 3
   },
   "file_extension": ".py",
   "mimetype": "text/x-python",
   "name": "python",
   "nbconvert_exporter": "python",
   "pygments_lexer": "ipython3",
   "version": "3.12.0"
  }
 },
 "nbformat": 4,
 "nbformat_minor": 2
}
